 {
 "cells": [
  {
   "cell_type": "markdown",
   "metadata": {},
   "source": [
    "# Bloodhound Playbook - Most Privileged assets and Paths to DA\n",
    "-----------------------------------------\n",
    "* **Reference:** https://posts.specterops.io/visualizing-bloodhound-data-with-powerbi-part-1-ba8ea4908422"
   ]
  },
  {
   "cell_type": "markdown",
   "metadata": {},
   "source": [
    "## Import Libraries"
   ]
  },
  {
   "cell_type": "code",
   "execution_count": 2,
   "metadata": {},
   "outputs": [
    {
     "data": {
      "text/plain": [
       "RendererRegistry.enable('notebook')"
      ]
     },
     "execution_count": 2,
     "metadata": {},
     "output_type": "execute_result"
    }
   ],
   "source": [
    "from py2neo import Graph\n",
    "import plotly.graph_objects as go\n",
    "import altair as alt\n",
    "alt.renderers.enable('notebook')"
   ]
  },
  {
   "cell_type": "markdown",
   "metadata": {},
   "source": [
    "## Initialize BloodHound neo4j Database Connection"
   ]
  },
  {
   "cell_type": "code",
   "execution_count": 3,
   "metadata": {},
   "outputs": [
    {
     "data": {
      "text/plain": [
       "<Graph database=<Database uri='bolt://127.0.0.1:7687' secure=False user_agent='py2neo/4.2.0 neobolt/1.7.15 Python/3.7.4-final-0 (win32)'> name='data'>"
      ]
     },
     "execution_count": 3,
     "metadata": {},
     "output_type": "execute_result"
    }
   ],
   "source": [
    "g = Graph(\"bolt://127.0.0.1:7687\", auth=(\"neo4j\", \"neo4j\"))\n",
    "g"
   ]
  },
  {
   "cell_type": "markdown",
   "metadata": {},
   "source": [
    "## Retrieve Security Groups with Local Admin Rights over Computers"
   ]
  },
  {
   "cell_type": "markdown",
   "metadata": {},
   "source": [
    "Now we’ll construct the Cypher query that tells us the name of each security group in Active Directory and the number of computers that group has local admin rights on."
   ]
  },
  {
   "cell_type": "code",
   "execution_count": 39,
   "metadata": {},
   "outputs": [],
   "source": [
    "sg_computers_df = g.run(\"\"\"\n",
    "MATCH (g:Group)\n",
    "OPTIONAL MATCH (g)-[:AdminTo]->(c1:Computer)\n",
    "OPTIONAL MATCH (g)-[:MemberOf*1..]->(:Group)-[:AdminTo]->(c2:Computer)\n",
    "WITH g, COLLECT(c1) + COLLECT(c2) AS tempVar\n",
    "UNWIND tempVar AS computers\n",
    "RETURN g.name AS GroupName,COUNT(DISTINCT(computers)) AS AdminRightCount\n",
    "ORDER BY AdminRightCount DESC\n",
    "\"\"\").to_data_frame()"
   ]
  },
  {
   "cell_type": "code",
   "execution_count": null,
   "metadata": {},
   "outputs": [],
   "source": [
    "sg_computers_df[:10]"
   ]
  },
  {
   "cell_type": "markdown",
   "metadata": {},
   "source": [
    "## Create Horizontal Bar Chart: Most Privileged Active Directory Security Groups"
   ]
  },
  {
   "cell_type": "code",
   "execution_count": null,
   "metadata": {},
   "outputs": [],
   "source": [
    "bars = alt.Chart(sg_computers_df.head(30), title=\"Most Privileged Active Directory Security Groups\").mark_bar().encode(\n",
    "    x='AdminRightCount:Q',\n",
    "    y=alt.Y(\n",
    "        \"GroupName:N\",\n",
    "        sort=alt.EncodingSortField(\n",
    "            field=\"AdminRightCount\",\n",
    "            order=\"descending\"\n",
    "        )\n",
    "    )\n",
    ")\n",
    "\n",
    "text = bars.mark_text(\n",
    "    align='left',\n",
    "    baseline='middle',\n",
    "    dx=3\n",
    ").encode(\n",
    "    text='AdminRightCount:Q'\n",
    ")\n",
    "\n",
    "(bars + text).properties(height=300)"
   ]
  },
  {
   "cell_type": "markdown",
   "metadata": {},
   "source": [
    "## Create Percentage Chart: Domain Users with a path to Domain Admin"
   ]
  },
  {
   "cell_type": "code",
   "execution_count": 19,
   "metadata": {},
   "outputs": [],
   "source": [
    "users_to_da = g.run(\"\"\"\n",
    "MATCH (totalUsers:User {domain:'TESTLAB.NET'})\n",
    "MATCH p=shortestPath((UsersWithPath:User {domain:'TESTLAB.NET'})-[r*1..]->(g:Group {name:'DOMAIN ADMINS@TESTLAB.NET'}))\n",
    "WITH COUNT(DISTINCT(totalUsers)) as totalUsers, COUNT(DISTINCT(UsersWithPath)) as UsersWithPath\n",
    "RETURN 100.0 * UsersWithPath / totalUsers AS percentUsersToDA\n",
    "\"\"\").to_data_frame()"
   ]
  },
  {
   "cell_type": "code",
   "execution_count": null,
   "metadata": {},
   "outputs": [],
   "source": [
    "users_to_da"
   ]
  },
  {
   "cell_type": "code",
   "execution_count": null,
   "metadata": {},
   "outputs": [],
   "source": [
    "value_df = users_to_da['percentUsersToDA'].values[0]\n",
    "value_df"
   ]
  },
  {
   "cell_type": "code",
   "execution_count": null,
   "metadata": {},
   "outputs": [],
   "source": [
    "fig = go.Figure(go.Indicator(\n",
    "    domain = {'x': [0, 1], 'y': [0, 1]},\n",
    "    value = (value_df),\n",
    "    mode = \"gauge+number\",\n",
    "    title = {'text': \"Percentage of Users with a Path to Domain Admin\"},\n",
    "    gauge = {'axis': {'range': [None, 100]},\n",
    "             'steps' : [{'range': [0, 250], 'color': \"lightgray\"}],\n",
    "             'threshold' : {'line': {'color': \"red\", 'width': 4}, 'thickness': 0.75, 'value': 490}}))\n",
    "\n",
    "fig.show()\n",
    "         "
   ]
  },
  {
   "cell_type": "markdown",
   "metadata": {},
   "source": [
    "## Removing two groups with highest no of paths (blacklist in bloodhound)"
   ]
  },
  {
   "cell_type": "code",
   "execution_count": 24,
   "metadata": {},
   "outputs": [],
   "source": [
    "users_to_da_wo_grps = g.run(\"\"\"\n",
    "MATCH (totalUsers:User {domain:'TESTLAB.NET'})\n",
    "MATCH p=shortestPath((UsersWithPath:User {domain:'TESTLAB.NET'})-[r*1..]->(g:Group {name:'DOMAIN ADMINS@TESTLAB.NET'}))\n",
    "WITH COUNT(DISTINCT(totalUsers)) as totalUsers, COUNT(DISTINCT(UsersWithPath)) as UsersWithPath\n",
    "RETURN 100.0 * UsersWithPath / totalUsers AS percentUsersToDA\n",
    "\"\"\").to_data_frame()"
   ]
  },
  {
   "cell_type": "code",
   "execution_count": null,
   "metadata": {},
   "outputs": [],
   "source": [
    "users_to_da_wo_grps"
   ]
  },
  {
   "cell_type": "code",
   "execution_count": null,
   "metadata": {
    "scrolled": true
   },
   "outputs": [],
   "source": [
    "value_df = users_to_da_wo_grps['percentUsersToDA'].values[0]\n",
    "value_df"
   ]
  },
  {
   "cell_type": "code",
   "execution_count": null,
   "metadata": {},
   "outputs": [],
   "source": [
    "fig = go.Figure(go.Indicator(\n",
    "    domain = {'x': [0, 1], 'y': [0, 1]},\n",
    "    value = (value_df),\n",
    "    mode = \"gauge+number\",\n",
    "    title = {'text': \"Percentage of Users with a Path to Domain Admin\"},\n",
    "    gauge = {'axis': {'range': [None, 100]},\n",
    "             'steps' : [{'range': [0, 250], 'color': \"lightgray\"}],\n",
    "             'threshold' : {'line': {'color': \"red\", 'width': 4}, 'thickness': 0.75, 'value': 490}}))\n",
    "\n",
    "fig.show()"
   ]
  },
  {
   "cell_type": "code",
   "execution_count": null,
   "metadata": {},
   "outputs": [],
   "source": []
  }
 ],
 "metadata": {
  "kernelspec": {
   "display_name": "Python 3",
   "language": "python",
   "name": "python3"
  },
  "language_info": {
   "codemirror_mode": {
    "name": "ipython",
    "version": 3
   },
   "file_extension": ".py",
   "mimetype": "text/x-python",
   "name": "python",
   "nbconvert_exporter": "python",
   "pygments_lexer": "ipython3",
   "version": "3.7.4"
  }
 },
 "nbformat": 4,
 "nbformat_minor": 4
}
