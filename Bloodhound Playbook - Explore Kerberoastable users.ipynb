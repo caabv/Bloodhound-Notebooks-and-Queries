{
 "cells": [
  {
   "cell_type": "markdown",
   "metadata": {},
   "source": [
    "# Bloodhound Playbook: Explore Kerberoastable users\n",
    "---------------------------------------------------\n",
    "* **Referece:** https://youtu.be/fqYoOoghqdE?t=1218"
   ]
  },
  {
   "cell_type": "markdown",
   "metadata": {},
   "source": [
    "## Count Users with Service Principal Name Set "
   ]
  },
  {
   "cell_type": "markdown",
   "metadata": {},
   "source": [
    "When sharphound finds a user with a Service Principal Name set, it property named `hasspn` in the User node to `True`. Therefore, if we want to count the number users with that property set, we just need to query for users with `hasspn = True`."
   ]
  },
  {
   "cell_type": "code",
   "execution_count": 2,
   "metadata": {},
   "outputs": [],
   "source": [
    "from py2neo import Graph"
   ]
  },
  {
   "cell_type": "code",
   "execution_count": 3,
   "metadata": {},
   "outputs": [],
   "source": [
    "g = Graph(\"bolt://127.0.0.1:7687\", auth=(\"neo4j\", \"neo4j\"))"
   ]
  },
  {
   "cell_type": "code",
   "execution_count": 4,
   "metadata": {},
   "outputs": [],
   "source": [
    "users_hasspn_count = g.run(\"\"\"\n",
    "MATCH (u:User {hasspn:true})\n",
    "RETURN COUNT(u)\n",
    "\"\"\").to_data_frame()"
   ]
  },
  {
   "cell_type": "code",
   "execution_count": null,
   "metadata": {},
   "outputs": [],
   "source": [
    "users_hasspn_count"
   ]
  },
  {
   "cell_type": "code",
   "execution_count": null,
   "metadata": {},
   "outputs": [],
   "source": [
    "g.run(\"\"\"\n",
    "MATCH (u:User {hasspn:true})\n",
    "RETURN u.name\n",
    "\"\"\").to_data_frame()"
   ]
  },
  {
   "cell_type": "markdown",
   "metadata": {},
   "source": [
    "## Retrieve Kerberoastable Users with Path to DA "
   ]
  },
  {
   "cell_type": "markdown",
   "metadata": {},
   "source": [
    "We can limit our results and return only Kereberoastable users with paths to DA. We can find Kerberoastable users with a path to DA and also see the length of the path to see which one is the closest."
   ]
  },
  {
   "cell_type": "code",
   "execution_count": 7,
   "metadata": {},
   "outputs": [],
   "source": [
    "krb_users_path_to_DA = g.run(\"\"\"\n",
    "MATCH (u:User {hasspn:true})\n",
    "MATCH (g:Group {name:'DOMAIN ADMINS@TESTLAB.NET'})\n",
    "MATCH p = shortestPath(\n",
    "  (u)-[*1..]->(g)\n",
    ")\n",
    "RETURN u.name,LENGTH(p)\n",
    "ORDER BY LENGTH(p) ASC\n",
    "\"\"\").to_data_frame()"
   ]
  },
  {
   "cell_type": "code",
   "execution_count": null,
   "metadata": {},
   "outputs": [],
   "source": [
    "krb_users_path_to_DA"
   ]
  },
  {
   "cell_type": "markdown",
   "metadata": {},
   "source": [
    "## Return Most Privileged Kerberoastable users"
   ]
  },
  {
   "cell_type": "markdown",
   "metadata": {},
   "source": [
    "What if we do not have kerberoastable users with a path to DA? We can still look for most privileged Kerberoastable users based on how many computers they have local admins rights on.  "
   ]
  },
  {
   "cell_type": "code",
   "execution_count": 9,
   "metadata": {},
   "outputs": [],
   "source": [
    "privileged_kerberoastable_users = g.run(\"\"\"\n",
    "MATCH (u:User {hasspn:true})\n",
    "OPTIONAL MATCH (u)-[:AdminTo]->(c1:Computer)\n",
    "OPTIONAL MATCH (u)-[:MemberOf*1..]->(:Group)-[:AdminTo]->(c2:Computer)\n",
    "WITH u,COLLECT(c1) + COLLECT(c2) AS tempVar\n",
    "UNWIND tempVar AS comps\n",
    "RETURN u.name,COUNT(DISTINCT(comps))\n",
    "ORDER BY COUNT(DISTINCT(comps)) DESC\n",
    "\"\"\").to_data_frame()"
   ]
  },
  {
   "cell_type": "code",
   "execution_count": null,
   "metadata": {},
   "outputs": [],
   "source": [
    "privileged_kerberoastable_users"
   ]
  },
  {
   "cell_type": "code",
   "execution_count": null,
   "metadata": {},
   "outputs": [],
   "source": []
  }
 ],
 "metadata": {
  "kernelspec": {
   "display_name": "Python 3",
   "language": "python",
   "name": "python3"
  },
  "language_info": {
   "codemirror_mode": {
    "name": "ipython",
    "version": 3
   },
   "file_extension": ".py",
   "mimetype": "text/x-python",
   "name": "python",
   "nbconvert_exporter": "python",
   "pygments_lexer": "ipython3",
   "version": "3.7.4"
  }
 },
 "nbformat": 4,
 "nbformat_minor": 4
}
