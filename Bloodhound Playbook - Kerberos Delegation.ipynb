{
 "cells": [
  {
   "cell_type": "markdown",
   "metadata": {},
   "source": [
    "# Bloodhound Playbook: Kerberos Delegation"
   ]
  },
  {
   "cell_type": "markdown",
   "metadata": {},
   "source": [
    "In this playbook I will try to see if there is any (un)constrained delegation possibilities"
   ]
  },
  {
   "cell_type": "markdown",
   "metadata": {},
   "source": [
    "## Connect to DB"
   ]
  },
  {
   "cell_type": "code",
   "execution_count": 1,
   "metadata": {},
   "outputs": [],
   "source": [
    "from py2neo import Graph\n",
    "g = Graph(\"bolt://127.0.0.1:7687\", auth=(\"neo4j\", \"neo4j\"))"
   ]
  },
  {
   "cell_type": "markdown",
   "metadata": {},
   "source": [
    "### Count all computers with unconstraineddelegation"
   ]
  },
  {
   "cell_type": "code",
   "execution_count": 2,
   "metadata": {},
   "outputs": [],
   "source": [
    "all_uncon_comp = g.run(\"\"\"\n",
    "MATCH (c:Computer {unconstraineddelegation:true})\n",
    "RETURN COUNT (c)\n",
    "\"\"\").to_data_frame()"
   ]
  },
  {
   "cell_type": "code",
   "execution_count": null,
   "metadata": {},
   "outputs": [],
   "source": [
    "all_uncon_comp"
   ]
  },
  {
   "cell_type": "markdown",
   "metadata": {},
   "source": [
    "### How many unconstrained delegation systems that are not part of the domain controllers group"
   ]
  },
  {
   "cell_type": "code",
   "execution_count": 4,
   "metadata": {},
   "outputs": [],
   "source": [
    "not_dc_grp = g.run(\"\"\"\n",
    "MATCH (c1:Computer)-[:MemberOf*1..]->(g:Group)\n",
    "WHERE g.objectsid ENDS WITH \"-516\"\n",
    "WITH COLLECT(c1.name) AS domainControllers\n",
    "MATCH (c2:Computer {unconstraineddelegation:true})\n",
    "WHERE NOT c2.name IN domainControllers\n",
    "RETURN c2.name,c2.operatingsystem,c2.serviceprincipalnames\n",
    "ORDER BY c2.name ASC\n",
    "\"\"\").to_data_frame()"
   ]
  },
  {
   "cell_type": "code",
   "execution_count": null,
   "metadata": {},
   "outputs": [],
   "source": [
    "len(not_dc_grp)"
   ]
  },
  {
   "cell_type": "code",
   "execution_count": 6,
   "metadata": {},
   "outputs": [],
   "source": [
    "not_dc_grp.columns = ['name','os','spn']"
   ]
  },
  {
   "cell_type": "code",
   "execution_count": null,
   "metadata": {},
   "outputs": [],
   "source": [
    "#no_cluster[~no_cluster['spn'].str.contains(\"MSServerCluster\", na=False)]\n",
    "no_cluster = not_dc_grp.iloc[[0,1,2,3,4,32,41]]\n",
    "no_cluster"
   ]
  },
  {
   "cell_type": "markdown",
   "metadata": {},
   "source": []
  },
  {
   "cell_type": "code",
   "execution_count": null,
   "metadata": {},
   "outputs": [],
   "source": []
  },
  {
   "cell_type": "code",
   "execution_count": null,
   "metadata": {},
   "outputs": [],
   "source": []
  }
 ],
 "metadata": {
  "kernelspec": {
   "display_name": "Python 3",
   "language": "python",
   "name": "python3"
  },
  "language_info": {
   "codemirror_mode": {
    "name": "ipython",
    "version": 3
   },
   "file_extension": ".py",
   "mimetype": "text/x-python",
   "name": "python",
   "nbconvert_exporter": "python",
   "pygments_lexer": "ipython3",
   "version": "3.7.4"
  }
 },
 "nbformat": 4,
 "nbformat_minor": 2
}
