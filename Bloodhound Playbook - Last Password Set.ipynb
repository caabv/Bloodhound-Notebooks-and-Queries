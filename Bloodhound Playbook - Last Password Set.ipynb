{
 "cells": [
  {
   "cell_type": "markdown",
   "metadata": {},
   "source": [
    "# Bloodhound Playbook - Last Password Set\n",
    "-----------------------------------------\n"
   ]
  },
  {
   "cell_type": "markdown",
   "metadata": {},
   "source": [
    "## Import Libraries"
   ]
  },
  {
   "cell_type": "code",
   "execution_count": 12,
   "metadata": {},
   "outputs": [],
   "source": [
    "from py2neo import Graph\n",
    "import datetime as dt"
   ]
  },
  {
   "cell_type": "markdown",
   "metadata": {},
   "source": [
    "## Initialize BloodHound neo4j Database Connection"
   ]
  },
  {
   "cell_type": "code",
   "execution_count": 13,
   "metadata": {},
   "outputs": [
    {
     "data": {
      "text/plain": [
       "<Graph database=<Database uri='bolt://127.0.0.1:7687' secure=False user_agent='py2neo/4.2.0 neobolt/1.7.15 Python/3.7.4-final-0 (win32)'> name='data'>"
      ]
     },
     "execution_count": 13,
     "metadata": {},
     "output_type": "execute_result"
    }
   ],
   "source": [
    "g = Graph(\"bolt://127.0.0.1:7687\", auth=(\"neo4j\", \"neo4j\"))\n",
    "g"
   ]
  },
  {
   "cell_type": "markdown",
   "metadata": {},
   "source": [
    "## Retrieve Enabled User Accounts With A Password Older than 10 years"
   ]
  },
  {
   "cell_type": "markdown",
   "metadata": {},
   "source": [
    "Now we’ll construct the Cypher query that show us enabled user accounts with a password that is older than 10 years "
   ]
  },
  {
   "cell_type": "code",
   "execution_count": 57,
   "metadata": {},
   "outputs": [],
   "source": [
    "lastpwdset_df = g.run(\"\"\"\n",
    "MATCH (U:User) WHERE U.enabled = true AND U.pwdlastset < (datetime().epochseconds - (10 * 31556926)) \n",
    "AND NOT U.pwdlastset IN [-1.0, 0.0] \n",
    "RETURN U.name, U.pwdlastset\n",
    "\"\"\").to_data_frame()"
   ]
  },
  {
   "cell_type": "code",
   "execution_count": null,
   "metadata": {},
   "outputs": [],
   "source": [
    "# test = dt.datetime.utcfromtimestamp(1228117326).replace(tzinfo=datetime.timezone.utc)\n",
    "lastpwdset_df"
   ]
  },
  {
   "cell_type": "markdown",
   "metadata": {},
   "source": [
    "## Retrieve Users with SPN(Kerberoastable) And A Password Older Than 5 Years"
   ]
  },
  {
   "cell_type": "code",
   "execution_count": 45,
   "metadata": {},
   "outputs": [],
   "source": [
    "lastpwdset_spn_df = g.run(\"\"\"\n",
    "MATCH (U:User) WHERE U.hasspn = true AND U.enabled = true AND U.pwdlastset < (datetime().epochseconds - (5 * 31556926)) \n",
    "AND NOT U.pwdlastset IN [-1.0, 0.0] \n",
    "RETURN U.name, U.pwdlastset, U.serviceprincipalnames\n",
    "\"\"\").to_data_frame()"
   ]
  },
  {
   "cell_type": "code",
   "execution_count": null,
   "metadata": {},
   "outputs": [],
   "source": [
    "lastpwdset_spn_df"
   ]
  },
  {
   "cell_type": "markdown",
   "metadata": {},
   "source": [
    "## Which Of The Above Mentioned Users Have A Path To Domain Admin"
   ]
  },
  {
   "cell_type": "code",
   "execution_count": 38,
   "metadata": {},
   "outputs": [],
   "source": [
    "lastpwdset_spn_da_df = g.run(\"\"\"\n",
    "MATCH (U:User) WHERE U.hasspn = true AND U.enabled = true AND U.pwdlastset < (datetime().epochseconds - (5 * 31556926)) \n",
    "AND NOT U.pwdlastset IN [-1.0, 0.0]\n",
    "MATCH (g:Group {name:'DOMAIN ADMINS@TESTLAB.NET'})\n",
    "MATCH p = shortestPath(\n",
    "  (U)-[*1..]->(g)\n",
    ")\n",
    "RETURN U.name,LENGTH(p)\n",
    "ORDER BY LENGTH(p) ASC\n",
    "\"\"\").to_data_frame()"
   ]
  },
  {
   "cell_type": "code",
   "execution_count": null,
   "metadata": {},
   "outputs": [],
   "source": [
    "lastpwdset_spn_da_df"
   ]
  },
  {
   "cell_type": "markdown",
   "metadata": {},
   "source": [
    "## Local Admin Rights On Computers"
   ]
  },
  {
   "cell_type": "markdown",
   "metadata": {},
   "source": [
    "Further, how many computers does the above mentioned users have local admins rights on."
   ]
  },
  {
   "cell_type": "code",
   "execution_count": 41,
   "metadata": {},
   "outputs": [],
   "source": [
    "comp_admin_df = g.run(\"\"\"\n",
    "MATCH (u:User) WHERE u.hasspn = true AND u.enabled = true AND u.pwdlastset < (datetime().epochseconds - (5 * 31556926)) \n",
    "AND NOT u.pwdlastset IN [-1.0, 0.0]\n",
    "OPTIONAL MATCH (u)-[:AdminTo]->(c1:Computer)\n",
    "OPTIONAL MATCH (u)-[:MemberOf*1..]->(:Group)-[:AdminTo]->(c2:Computer)\n",
    "WITH u,COLLECT(c1) + COLLECT(c2) AS tempVar\n",
    "UNWIND tempVar AS comps\n",
    "RETURN u.name,COUNT(DISTINCT(comps))\n",
    "ORDER BY COUNT(DISTINCT(comps)) DESC\n",
    "\"\"\").to_data_frame()"
   ]
  },
  {
   "cell_type": "code",
   "execution_count": null,
   "metadata": {},
   "outputs": [],
   "source": [
    "comp_admin_df"
   ]
  },
  {
   "cell_type": "markdown",
   "metadata": {},
   "source": [
    "## Retrive Local Admin Rights For Observed Accounts"
   ]
  },
  {
   "cell_type": "markdown",
   "metadata": {},
   "source": [
    "How many of the user accounts with old passwords have local admin rights?"
   ]
  },
  {
   "cell_type": "code",
   "execution_count": 51,
   "metadata": {},
   "outputs": [],
   "source": [
    "local_admin_df = g.run(\"\"\"\n",
    "MATCH (u:User) WHERE u.enabled = true AND u.pwdlastset < (datetime().epochseconds - (10 * 31556926)) \n",
    "AND NOT u.pwdlastset IN [-1.0, 0.0] \n",
    "OPTIONAL MATCH (u)-[:AdminTo]->(c1:Computer)\n",
    "OPTIONAL MATCH (u)-[:MemberOf*1..]->(:Group)-[:AdminTo]->(c2:Computer)\n",
    "WITH u,COLLECT(c1) + COLLECT(c2) AS tempVar\n",
    "UNWIND tempVar AS comps\n",
    "RETURN u.name,COUNT(DISTINCT(comps))\n",
    "ORDER BY COUNT(DISTINCT(comps)) DESC\n",
    "\"\"\").to_data_frame()"
   ]
  },
  {
   "cell_type": "code",
   "execution_count": null,
   "metadata": {},
   "outputs": [],
   "source": [
    "local_admin_df"
   ]
  },
  {
   "cell_type": "code",
   "execution_count": null,
   "metadata": {},
   "outputs": [],
   "source": []
  }
 ],
 "metadata": {
  "kernelspec": {
   "display_name": "Python 3",
   "language": "python",
   "name": "python3"
  },
  "language_info": {
   "codemirror_mode": {
    "name": "ipython",
    "version": 3
   },
   "file_extension": ".py",
   "mimetype": "text/x-python",
   "name": "python",
   "nbconvert_exporter": "python",
   "pygments_lexer": "ipython3",
   "version": "3.7.4"
  }
 },
 "nbformat": 4,
 "nbformat_minor": 4
}
